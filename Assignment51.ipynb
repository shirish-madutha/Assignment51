{
 "cells": [
  {
   "cell_type": "code",
   "execution_count": null,
   "id": "673f2cd9-e759-4102-89c3-2ec52361f0f4",
   "metadata": {},
   "outputs": [],
   "source": [
    "\"\"\" Q1. What is the relationship between polynomial functions and kernel functions in machine learning\n",
    "algorithms? \"\"\"\n",
    "\n",
    "# ans\n",
    "\"\"\" In machine learning, polynomial functions and kernel functions are related through the use of kernel trick, which allows linear algorithms like Support Vector Machines (SVM) to handle nonlinear data by implicitly transforming it into a higher-dimensional feature space. Polynomial functions are a type of kernel function used for this purpose.\n",
    "\n",
    "The kernel trick works by computing the dot product between data points in the transformed feature space without explicitly performing the transformation. In the case of polynomial kernels, it's used to capture polynomial relationships between features. \"\"\""
   ]
  },
  {
   "cell_type": "code",
   "execution_count": null,
   "id": "18260edb-9399-44d6-aa4b-89a159ba06d3",
   "metadata": {},
   "outputs": [],
   "source": [
    "\"\"\" Q2. How can we implement an SVM with a polynomial kernel in Python using Scikit-learn? \"\"\"\n",
    "\n",
    "# ans\n",
    "\"\"\" from sklearn import datasets\n",
    "from sklearn.model_selection import train_test_split\n",
    "from sklearn.svm import SVR\n",
    "from sklearn.metrics import mean_squared_error\n",
    "\n",
    "# Load a sample dataset (e.g., the diabetes dataset)\n",
    "data = datasets.load_diabetes()\n",
    "X = data.data\n",
    "y = data.target\n",
    "\n",
    "# Split the data into a training and testing set\n",
    "X_train, X_test, y_train, y_test = train_test_split(X, y, test_size=0.2, random_state=42)\n",
    "\n",
    "# Create an SVR model with a polynomial kernel\n",
    "svr = SVR(kernel='poly', degree=3, C=1.0, epsilon=0.2, gamma='scale') # You can adjust hyperparameters like degree, C, epsilon, and gamma\n",
    "\n",
    "# Fit the model to the training data\n",
    "svr.fit(X_train, y_train)\n",
    "\n",
    "# Make predictions on the test data\n",
    "y_pred = svr.predict(X_test)\n",
    "\n",
    "# Evaluate the model's performance\n",
    "mse = mean_squared_error(y_test, y_pred)\n",
    "print(f\"Mean Squared Error: {mse}\")\n",
    "\n",
    "In the code above, we import the necessary libraries, load a sample dataset, split it into training and testing sets, create an SVR model with a polynomial kernel (set by kernel='poly'), specify hyperparameters like degree, C, epsilon, and gamma, and then fit the model to the training data. Finally, we make predictions and evaluate the model's performance using mean squared error.\n",
    "\n",
    "You can adjust the hyperparameters like degree, C, epsilon, and gamma to fine-tune the model's performance based on your specific problem.\n",
    "\"\"\""
   ]
  },
  {
   "cell_type": "code",
   "execution_count": null,
   "id": "02011a8b-f361-402b-8858-ca46488d0c98",
   "metadata": {},
   "outputs": [],
   "source": [
    "\"\"\" Q3. How does increasing the value of epsilon affect the number of support vectors in SVR?  \"\"\"\n",
    "\n",
    "# ans\n",
    "\"\"\" In Support Vector Regression (SVR), the epsilon parameter (ϵ) defines the width of the margin around the regression line within which data points are not considered errors. Increasing the value of epsilon has a direct impact on the number of support vectors.\n",
    "\n",
    "Smaller Epsilon: When you use a smaller value of epsilon, the margin around the regression line becomes narrower. As a result, fewer data points are within the margin, and more data points are considered errors (violations of the margin). This typically leads to a larger number of support vectors.\n",
    "\n",
    "Larger Epsilon: Conversely, when you increase the value of epsilon, the margin around the regression line becomes wider. More data points are now within the margin, and fewer data points are considered errors. This results in a smaller number of support vectors.\n",
    "\n",
    "The choice of epsilon controls the trade-off between model flexibility and the tolerance for errors. A smaller epsilon leads to a more rigid model with a smaller margin and more support vectors, potentially fitting the training data more closely. In contrast, a larger epsilon allows for a more flexible model with a wider margin and fewer support vectors, potentially tolerating some level of error in the training data.\n",
    "\n",
    "It's essential to tune the epsilon parameter carefully to strike the right balance between model flexibility and the avoidance of overfitting to the noise in the training data. \"\"\""
   ]
  },
  {
   "cell_type": "code",
   "execution_count": null,
   "id": "675d6e2c-698f-44d1-b8a4-cc57779810cb",
   "metadata": {},
   "outputs": [],
   "source": [
    "\"\"\" Q4. How does the choice of kernel function, C parameter, epsilon parameter, and gamma parameter\n",
    "affect the performance of Support Vector Regression (SVR)? Can you explain how each parameter works\n",
    "and provide examples of when you might want to increase or decrease its value?  \"\"\"\n",
    "\n",
    "# ans\n",
    "\"\"\" The choice of kernel function, C parameter, epsilon parameter, and gamma parameter in Support Vector Regression (SVR) significantly affects the performance of the model. Here's an explanation of each parameter and how it can be adjusted:\n",
    "\n",
    "Kernel Function:\n",
    "The kernel function determines how SVR models nonlinear relationships in the data.\n",
    "Common choices include the linear kernel, polynomial kernel, and radial basis function (RBF) kernel.\n",
    "When to use:\n",
    "Linear Kernel: When the data has a linear relationship.\n",
    "Polynomial Kernel: When the data has polynomial relationships.\n",
    "RBF Kernel: When the data has complex, nonlinear relationships.\n",
    "\n",
    "C Parameter:\n",
    "The C parameter controls the trade-off between fitting the training data and minimizing the margin violation (error).\n",
    "Smaller C values result in a wider margin but may tolerate some margin violations (soft margin).\n",
    "Larger C values lead to a narrower margin but aim to minimize margin violations (hard margin).\n",
    "When to increase/decrease:\n",
    "Increase C: If you want to fit the training data more closely and reduce margin violations. Use a smaller margin and more support vectors.\n",
    "Decrease C: If you want a wider margin and can tolerate some margin violations. Use a larger margin with fewer support vectors.\n",
    "\n",
    "Epsilon Parameter:\n",
    "The epsilon parameter (ϵ) defines the width of the margin around the regression line within which data points are not considered errors.\n",
    "Smaller epsilon values result in a narrower margin, while larger epsilon values create a wider margin.\n",
    "When to increase/decrease:\n",
    "Increase epsilon: If you want a wider margin and can tolerate some data points falling within the margin.\n",
    "Decrease epsilon: If you want a narrower margin and aim to minimize data points within the margin.\n",
    "\n",
    "Gamma Parameter (RBF Kernel):\n",
    "The gamma parameter (γ) controls the shape and flexibility of the RBF kernel.\n",
    "Smaller gamma values result in a smoother, wider curve, while larger gamma values lead to a narrower, more flexible curve.\n",
    "When to increase/decrease:\n",
    "Increase gamma: If you want a more flexible model that can capture intricate patterns in the data but risk overfitting.\n",
    "Decrease gamma: If you want a smoother model with less complexity and avoid overfitting to noise. \"\"\""
   ]
  },
  {
   "cell_type": "code",
   "execution_count": 5,
   "id": "cd5fc9e0-f2d0-45a1-b7c0-6ab0a20c37af",
   "metadata": {},
   "outputs": [],
   "source": [
    "from sklearn.datasets import load_breast_cancer"
   ]
  },
  {
   "cell_type": "code",
   "execution_count": 6,
   "id": "f5d8a19d-0feb-4bc5-b083-98e85b1c8b5c",
   "metadata": {},
   "outputs": [],
   "source": [
    "X, y = load_breast_cancer(return_X_y=True)"
   ]
  },
  {
   "cell_type": "code",
   "execution_count": 7,
   "id": "6c04a851-7cc7-4dbf-91e4-f13aeccd9d88",
   "metadata": {},
   "outputs": [],
   "source": [
    "from sklearn.model_selection import train_test_split"
   ]
  },
  {
   "cell_type": "code",
   "execution_count": 8,
   "id": "ea925802-c5f6-40c5-97bd-4b7d5d1b1e4e",
   "metadata": {},
   "outputs": [],
   "source": [
    "X_train, X_test, y_train, y_test = train_test_split(X, y, test_size=0.25, random_state=10)"
   ]
  },
  {
   "cell_type": "code",
   "execution_count": 9,
   "id": "ca6282ab-7e59-42d6-a36c-50d642a8cdc4",
   "metadata": {},
   "outputs": [],
   "source": [
    "from sklearn.preprocessing import StandardScaler"
   ]
  },
  {
   "cell_type": "code",
   "execution_count": 10,
   "id": "f17cd816-074f-4b30-9d5c-b4d8feca63ad",
   "metadata": {},
   "outputs": [],
   "source": [
    "scaler=StandardScaler()"
   ]
  },
  {
   "cell_type": "code",
   "execution_count": 11,
   "id": "52fa3ab4-3b1a-47b1-ba36-9da6ea0990a2",
   "metadata": {},
   "outputs": [],
   "source": [
    "X_train_scaled=scaler.fit_transform(X_train)"
   ]
  },
  {
   "cell_type": "code",
   "execution_count": 12,
   "id": "c257ec86-8724-4331-a7ac-f6a9b59671b1",
   "metadata": {},
   "outputs": [],
   "source": [
    "X_test_scaled=scaler.transform(X_test)"
   ]
  },
  {
   "cell_type": "code",
   "execution_count": 13,
   "id": "ac97ded0-a8b0-4422-bc5b-d615eed16878",
   "metadata": {},
   "outputs": [],
   "source": [
    "from sklearn.svm import SVC"
   ]
  },
  {
   "cell_type": "code",
   "execution_count": 14,
   "id": "e6768712-4aa1-467c-90d9-79193f9cdff2",
   "metadata": {},
   "outputs": [],
   "source": [
    "clf=SVC()"
   ]
  },
  {
   "cell_type": "code",
   "execution_count": 15,
   "id": "a5e4a2e8-fcd5-4dbb-b042-c6a7eb79d1a5",
   "metadata": {},
   "outputs": [
    {
     "data": {
      "text/html": [
       "<style>#sk-container-id-1 {color: black;background-color: white;}#sk-container-id-1 pre{padding: 0;}#sk-container-id-1 div.sk-toggleable {background-color: white;}#sk-container-id-1 label.sk-toggleable__label {cursor: pointer;display: block;width: 100%;margin-bottom: 0;padding: 0.3em;box-sizing: border-box;text-align: center;}#sk-container-id-1 label.sk-toggleable__label-arrow:before {content: \"▸\";float: left;margin-right: 0.25em;color: #696969;}#sk-container-id-1 label.sk-toggleable__label-arrow:hover:before {color: black;}#sk-container-id-1 div.sk-estimator:hover label.sk-toggleable__label-arrow:before {color: black;}#sk-container-id-1 div.sk-toggleable__content {max-height: 0;max-width: 0;overflow: hidden;text-align: left;background-color: #f0f8ff;}#sk-container-id-1 div.sk-toggleable__content pre {margin: 0.2em;color: black;border-radius: 0.25em;background-color: #f0f8ff;}#sk-container-id-1 input.sk-toggleable__control:checked~div.sk-toggleable__content {max-height: 200px;max-width: 100%;overflow: auto;}#sk-container-id-1 input.sk-toggleable__control:checked~label.sk-toggleable__label-arrow:before {content: \"▾\";}#sk-container-id-1 div.sk-estimator input.sk-toggleable__control:checked~label.sk-toggleable__label {background-color: #d4ebff;}#sk-container-id-1 div.sk-label input.sk-toggleable__control:checked~label.sk-toggleable__label {background-color: #d4ebff;}#sk-container-id-1 input.sk-hidden--visually {border: 0;clip: rect(1px 1px 1px 1px);clip: rect(1px, 1px, 1px, 1px);height: 1px;margin: -1px;overflow: hidden;padding: 0;position: absolute;width: 1px;}#sk-container-id-1 div.sk-estimator {font-family: monospace;background-color: #f0f8ff;border: 1px dotted black;border-radius: 0.25em;box-sizing: border-box;margin-bottom: 0.5em;}#sk-container-id-1 div.sk-estimator:hover {background-color: #d4ebff;}#sk-container-id-1 div.sk-parallel-item::after {content: \"\";width: 100%;border-bottom: 1px solid gray;flex-grow: 1;}#sk-container-id-1 div.sk-label:hover label.sk-toggleable__label {background-color: #d4ebff;}#sk-container-id-1 div.sk-serial::before {content: \"\";position: absolute;border-left: 1px solid gray;box-sizing: border-box;top: 0;bottom: 0;left: 50%;z-index: 0;}#sk-container-id-1 div.sk-serial {display: flex;flex-direction: column;align-items: center;background-color: white;padding-right: 0.2em;padding-left: 0.2em;position: relative;}#sk-container-id-1 div.sk-item {position: relative;z-index: 1;}#sk-container-id-1 div.sk-parallel {display: flex;align-items: stretch;justify-content: center;background-color: white;position: relative;}#sk-container-id-1 div.sk-item::before, #sk-container-id-1 div.sk-parallel-item::before {content: \"\";position: absolute;border-left: 1px solid gray;box-sizing: border-box;top: 0;bottom: 0;left: 50%;z-index: -1;}#sk-container-id-1 div.sk-parallel-item {display: flex;flex-direction: column;z-index: 1;position: relative;background-color: white;}#sk-container-id-1 div.sk-parallel-item:first-child::after {align-self: flex-end;width: 50%;}#sk-container-id-1 div.sk-parallel-item:last-child::after {align-self: flex-start;width: 50%;}#sk-container-id-1 div.sk-parallel-item:only-child::after {width: 0;}#sk-container-id-1 div.sk-dashed-wrapped {border: 1px dashed gray;margin: 0 0.4em 0.5em 0.4em;box-sizing: border-box;padding-bottom: 0.4em;background-color: white;}#sk-container-id-1 div.sk-label label {font-family: monospace;font-weight: bold;display: inline-block;line-height: 1.2em;}#sk-container-id-1 div.sk-label-container {text-align: center;}#sk-container-id-1 div.sk-container {/* jupyter's `normalize.less` sets `[hidden] { display: none; }` but bootstrap.min.css set `[hidden] { display: none !important; }` so we also need the `!important` here to be able to override the default hidden behavior on the sphinx rendered scikit-learn.org. See: https://github.com/scikit-learn/scikit-learn/issues/21755 */display: inline-block !important;position: relative;}#sk-container-id-1 div.sk-text-repr-fallback {display: none;}</style><div id=\"sk-container-id-1\" class=\"sk-top-container\"><div class=\"sk-text-repr-fallback\"><pre>SVC()</pre><b>In a Jupyter environment, please rerun this cell to show the HTML representation or trust the notebook. <br />On GitHub, the HTML representation is unable to render, please try loading this page with nbviewer.org.</b></div><div class=\"sk-container\" hidden><div class=\"sk-item\"><div class=\"sk-estimator sk-toggleable\"><input class=\"sk-toggleable__control sk-hidden--visually\" id=\"sk-estimator-id-1\" type=\"checkbox\" checked><label for=\"sk-estimator-id-1\" class=\"sk-toggleable__label sk-toggleable__label-arrow\">SVC</label><div class=\"sk-toggleable__content\"><pre>SVC()</pre></div></div></div></div></div>"
      ],
      "text/plain": [
       "SVC()"
      ]
     },
     "execution_count": 15,
     "metadata": {},
     "output_type": "execute_result"
    }
   ],
   "source": [
    "clf.fit(X_train_scaled, y_train)"
   ]
  },
  {
   "cell_type": "code",
   "execution_count": 16,
   "id": "e5139373-5d62-427a-86e4-a7329a674aa7",
   "metadata": {},
   "outputs": [],
   "source": [
    "y_pred=clf.predict(X_test_scaled)"
   ]
  },
  {
   "cell_type": "code",
   "execution_count": 17,
   "id": "3ed54ff8-c987-4bfb-9fea-8835d9615aa1",
   "metadata": {},
   "outputs": [],
   "source": [
    "from sklearn.metrics import accuracy_score, confusion_matrix, classification_report"
   ]
  },
  {
   "cell_type": "code",
   "execution_count": 18,
   "id": "38f78229-4eed-460c-b471-b58e9df0d6a1",
   "metadata": {},
   "outputs": [
    {
     "data": {
      "text/plain": [
       "0.9790209790209791"
      ]
     },
     "execution_count": 18,
     "metadata": {},
     "output_type": "execute_result"
    }
   ],
   "source": [
    "accuracy_score(y_test, y_pred)"
   ]
  },
  {
   "cell_type": "code",
   "execution_count": 19,
   "id": "19261e4b-5a0f-4b12-9df9-a0666fa2cbf7",
   "metadata": {},
   "outputs": [
    {
     "name": "stdout",
     "output_type": "stream",
     "text": [
      "              precision    recall  f1-score   support\n",
      "\n",
      "           0       0.95      1.00      0.97        52\n",
      "           1       1.00      0.97      0.98        91\n",
      "\n",
      "    accuracy                           0.98       143\n",
      "   macro avg       0.97      0.98      0.98       143\n",
      "weighted avg       0.98      0.98      0.98       143\n",
      "\n"
     ]
    }
   ],
   "source": [
    "print(classification_report(y_test, y_pred))"
   ]
  },
  {
   "cell_type": "markdown",
   "id": "73b35b61-2224-4c7f-a508-28b5a89d3578",
   "metadata": {},
   "source": [
    "## Hyperparameter Tuning"
   ]
  },
  {
   "cell_type": "code",
   "execution_count": 20,
   "id": "59f46e17-7076-4190-a1d8-dbda9e9a9a4f",
   "metadata": {},
   "outputs": [],
   "source": [
    "from sklearn.model_selection import GridSearchCV"
   ]
  },
  {
   "cell_type": "code",
   "execution_count": 21,
   "id": "63d1cadd-1770-4cc0-81a0-d2b0ed35945b",
   "metadata": {},
   "outputs": [],
   "source": [
    "parameters={\"kernel\":[\"poly\", \"linear\", \"rbf\"], \n",
    "           \"C\":[1,5,10],\n",
    "           \"gamma\":[\"scale\",\"auto\"]}"
   ]
  },
  {
   "cell_type": "code",
   "execution_count": 22,
   "id": "1cbac1ce-6fc9-441d-951c-0b4782f267ad",
   "metadata": {},
   "outputs": [],
   "source": [
    "grid=GridSearchCV(estimator=SVC(), param_grid=parameters, cv=5)"
   ]
  },
  {
   "cell_type": "code",
   "execution_count": 23,
   "id": "85d17215-1cf3-43f7-880a-edfb4f653ee2",
   "metadata": {},
   "outputs": [
    {
     "data": {
      "text/html": [
       "<style>#sk-container-id-2 {color: black;background-color: white;}#sk-container-id-2 pre{padding: 0;}#sk-container-id-2 div.sk-toggleable {background-color: white;}#sk-container-id-2 label.sk-toggleable__label {cursor: pointer;display: block;width: 100%;margin-bottom: 0;padding: 0.3em;box-sizing: border-box;text-align: center;}#sk-container-id-2 label.sk-toggleable__label-arrow:before {content: \"▸\";float: left;margin-right: 0.25em;color: #696969;}#sk-container-id-2 label.sk-toggleable__label-arrow:hover:before {color: black;}#sk-container-id-2 div.sk-estimator:hover label.sk-toggleable__label-arrow:before {color: black;}#sk-container-id-2 div.sk-toggleable__content {max-height: 0;max-width: 0;overflow: hidden;text-align: left;background-color: #f0f8ff;}#sk-container-id-2 div.sk-toggleable__content pre {margin: 0.2em;color: black;border-radius: 0.25em;background-color: #f0f8ff;}#sk-container-id-2 input.sk-toggleable__control:checked~div.sk-toggleable__content {max-height: 200px;max-width: 100%;overflow: auto;}#sk-container-id-2 input.sk-toggleable__control:checked~label.sk-toggleable__label-arrow:before {content: \"▾\";}#sk-container-id-2 div.sk-estimator input.sk-toggleable__control:checked~label.sk-toggleable__label {background-color: #d4ebff;}#sk-container-id-2 div.sk-label input.sk-toggleable__control:checked~label.sk-toggleable__label {background-color: #d4ebff;}#sk-container-id-2 input.sk-hidden--visually {border: 0;clip: rect(1px 1px 1px 1px);clip: rect(1px, 1px, 1px, 1px);height: 1px;margin: -1px;overflow: hidden;padding: 0;position: absolute;width: 1px;}#sk-container-id-2 div.sk-estimator {font-family: monospace;background-color: #f0f8ff;border: 1px dotted black;border-radius: 0.25em;box-sizing: border-box;margin-bottom: 0.5em;}#sk-container-id-2 div.sk-estimator:hover {background-color: #d4ebff;}#sk-container-id-2 div.sk-parallel-item::after {content: \"\";width: 100%;border-bottom: 1px solid gray;flex-grow: 1;}#sk-container-id-2 div.sk-label:hover label.sk-toggleable__label {background-color: #d4ebff;}#sk-container-id-2 div.sk-serial::before {content: \"\";position: absolute;border-left: 1px solid gray;box-sizing: border-box;top: 0;bottom: 0;left: 50%;z-index: 0;}#sk-container-id-2 div.sk-serial {display: flex;flex-direction: column;align-items: center;background-color: white;padding-right: 0.2em;padding-left: 0.2em;position: relative;}#sk-container-id-2 div.sk-item {position: relative;z-index: 1;}#sk-container-id-2 div.sk-parallel {display: flex;align-items: stretch;justify-content: center;background-color: white;position: relative;}#sk-container-id-2 div.sk-item::before, #sk-container-id-2 div.sk-parallel-item::before {content: \"\";position: absolute;border-left: 1px solid gray;box-sizing: border-box;top: 0;bottom: 0;left: 50%;z-index: -1;}#sk-container-id-2 div.sk-parallel-item {display: flex;flex-direction: column;z-index: 1;position: relative;background-color: white;}#sk-container-id-2 div.sk-parallel-item:first-child::after {align-self: flex-end;width: 50%;}#sk-container-id-2 div.sk-parallel-item:last-child::after {align-self: flex-start;width: 50%;}#sk-container-id-2 div.sk-parallel-item:only-child::after {width: 0;}#sk-container-id-2 div.sk-dashed-wrapped {border: 1px dashed gray;margin: 0 0.4em 0.5em 0.4em;box-sizing: border-box;padding-bottom: 0.4em;background-color: white;}#sk-container-id-2 div.sk-label label {font-family: monospace;font-weight: bold;display: inline-block;line-height: 1.2em;}#sk-container-id-2 div.sk-label-container {text-align: center;}#sk-container-id-2 div.sk-container {/* jupyter's `normalize.less` sets `[hidden] { display: none; }` but bootstrap.min.css set `[hidden] { display: none !important; }` so we also need the `!important` here to be able to override the default hidden behavior on the sphinx rendered scikit-learn.org. See: https://github.com/scikit-learn/scikit-learn/issues/21755 */display: inline-block !important;position: relative;}#sk-container-id-2 div.sk-text-repr-fallback {display: none;}</style><div id=\"sk-container-id-2\" class=\"sk-top-container\"><div class=\"sk-text-repr-fallback\"><pre>GridSearchCV(cv=5, estimator=SVC(),\n",
       "             param_grid={&#x27;C&#x27;: [1, 5, 10], &#x27;gamma&#x27;: [&#x27;scale&#x27;, &#x27;auto&#x27;],\n",
       "                         &#x27;kernel&#x27;: [&#x27;poly&#x27;, &#x27;linear&#x27;, &#x27;rbf&#x27;]})</pre><b>In a Jupyter environment, please rerun this cell to show the HTML representation or trust the notebook. <br />On GitHub, the HTML representation is unable to render, please try loading this page with nbviewer.org.</b></div><div class=\"sk-container\" hidden><div class=\"sk-item sk-dashed-wrapped\"><div class=\"sk-label-container\"><div class=\"sk-label sk-toggleable\"><input class=\"sk-toggleable__control sk-hidden--visually\" id=\"sk-estimator-id-2\" type=\"checkbox\" ><label for=\"sk-estimator-id-2\" class=\"sk-toggleable__label sk-toggleable__label-arrow\">GridSearchCV</label><div class=\"sk-toggleable__content\"><pre>GridSearchCV(cv=5, estimator=SVC(),\n",
       "             param_grid={&#x27;C&#x27;: [1, 5, 10], &#x27;gamma&#x27;: [&#x27;scale&#x27;, &#x27;auto&#x27;],\n",
       "                         &#x27;kernel&#x27;: [&#x27;poly&#x27;, &#x27;linear&#x27;, &#x27;rbf&#x27;]})</pre></div></div></div><div class=\"sk-parallel\"><div class=\"sk-parallel-item\"><div class=\"sk-item\"><div class=\"sk-label-container\"><div class=\"sk-label sk-toggleable\"><input class=\"sk-toggleable__control sk-hidden--visually\" id=\"sk-estimator-id-3\" type=\"checkbox\" ><label for=\"sk-estimator-id-3\" class=\"sk-toggleable__label sk-toggleable__label-arrow\">estimator: SVC</label><div class=\"sk-toggleable__content\"><pre>SVC()</pre></div></div></div><div class=\"sk-serial\"><div class=\"sk-item\"><div class=\"sk-estimator sk-toggleable\"><input class=\"sk-toggleable__control sk-hidden--visually\" id=\"sk-estimator-id-4\" type=\"checkbox\" ><label for=\"sk-estimator-id-4\" class=\"sk-toggleable__label sk-toggleable__label-arrow\">SVC</label><div class=\"sk-toggleable__content\"><pre>SVC()</pre></div></div></div></div></div></div></div></div></div></div>"
      ],
      "text/plain": [
       "GridSearchCV(cv=5, estimator=SVC(),\n",
       "             param_grid={'C': [1, 5, 10], 'gamma': ['scale', 'auto'],\n",
       "                         'kernel': ['poly', 'linear', 'rbf']})"
      ]
     },
     "execution_count": 23,
     "metadata": {},
     "output_type": "execute_result"
    }
   ],
   "source": [
    "grid.fit(X_train_scaled, y_train)"
   ]
  },
  {
   "cell_type": "code",
   "execution_count": 24,
   "id": "26d30aec-1ae8-4e41-8899-e5d823034779",
   "metadata": {},
   "outputs": [
    {
     "data": {
      "text/plain": [
       "{'C': 5, 'gamma': 'scale', 'kernel': 'rbf'}"
      ]
     },
     "execution_count": 24,
     "metadata": {},
     "output_type": "execute_result"
    }
   ],
   "source": [
    "grid.best_params_"
   ]
  },
  {
   "cell_type": "code",
   "execution_count": 25,
   "id": "e1873668-446d-4127-bd40-ef73855d914f",
   "metadata": {},
   "outputs": [],
   "source": [
    "y_pred=grid.predict(X_test_scaled)"
   ]
  },
  {
   "cell_type": "code",
   "execution_count": 26,
   "id": "f71db442-36f3-4a9a-a4bc-ea845334849a",
   "metadata": {},
   "outputs": [],
   "source": [
    "from sklearn.metrics import accuracy_score"
   ]
  },
  {
   "cell_type": "code",
   "execution_count": 27,
   "id": "e3b39104-9bf6-47ee-8091-2541cb2e547f",
   "metadata": {},
   "outputs": [
    {
     "data": {
      "text/plain": [
       "0.986013986013986"
      ]
     },
     "execution_count": 27,
     "metadata": {},
     "output_type": "execute_result"
    }
   ],
   "source": [
    "accuracy_score(y_test, y_pred)"
   ]
  }
 ],
 "metadata": {
  "kernelspec": {
   "display_name": "Python 3 (ipykernel)",
   "language": "python",
   "name": "python3"
  },
  "language_info": {
   "codemirror_mode": {
    "name": "ipython",
    "version": 3
   },
   "file_extension": ".py",
   "mimetype": "text/x-python",
   "name": "python",
   "nbconvert_exporter": "python",
   "pygments_lexer": "ipython3",
   "version": "3.10.8"
  }
 },
 "nbformat": 4,
 "nbformat_minor": 5
}
